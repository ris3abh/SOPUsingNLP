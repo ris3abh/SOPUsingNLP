{
 "cells": [
  {
   "cell_type": "code",
   "execution_count": 24,
   "metadata": {},
   "outputs": [],
   "source": [
    "url1 = \"https://graduate.rice.edu/news/current-news/writing-killer-statement-purpose\""
   ]
  },
  {
   "cell_type": "code",
   "execution_count": 25,
   "metadata": {},
   "outputs": [],
   "source": [
    "url2 = \"https://www.northeastern.edu/graduate/blog/how-to-write-a-statement-of-purpose/\""
   ]
  },
  {
   "cell_type": "code",
   "execution_count": 26,
   "metadata": {},
   "outputs": [],
   "source": [
    "url3 = \"https://gradschool.cornell.edu/diversity-inclusion/recruitment-2/prospective-students/writing-your-statement-of-purpose/\""
   ]
  },
  {
   "cell_type": "code",
   "execution_count": 27,
   "metadata": {},
   "outputs": [],
   "source": [
    "def get_text(url):\n",
    "    req = requests.get(url)\n",
    "    soup = bs4.BeautifulSoup(req.text, 'html.parser')\n",
    "    text = soup.get_text().replace('\\n', ' ')\n",
    "    text = ' '.join(text.split())\n",
    "    text = re.sub(r'[^a-zA-Z0-9\\s]', '', text)\n",
    "    with open('../data/ManualCorpus.txt', 'a') as f:\n",
    "        f.write(text)\n"
   ]
  },
  {
   "cell_type": "code",
   "execution_count": 29,
   "metadata": {},
   "outputs": [],
   "source": [
    "url = [url1, url2, url3]\n",
    "\n",
    "for i in url:\n",
    "    get_text(i)"
   ]
  },
  {
   "cell_type": "code",
   "execution_count": null,
   "metadata": {},
   "outputs": [],
   "source": []
  }
 ],
 "metadata": {
  "kernelspec": {
   "display_name": "Python 3",
   "language": "python",
   "name": "python3"
  },
  "language_info": {
   "codemirror_mode": {
    "name": "ipython",
    "version": 3
   },
   "file_extension": ".py",
   "mimetype": "text/x-python",
   "name": "python",
   "nbconvert_exporter": "python",
   "pygments_lexer": "ipython3",
   "version": "3.10.9"
  },
  "orig_nbformat": 4,
  "vscode": {
   "interpreter": {
    "hash": "b0fa6594d8f4cbf19f97940f81e996739fb7646882a419484c72d19e05852a7e"
   }
  }
 },
 "nbformat": 4,
 "nbformat_minor": 2
}
